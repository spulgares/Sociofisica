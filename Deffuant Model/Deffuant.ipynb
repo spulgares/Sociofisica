{
 "cells": [
  {
   "attachments": {},
   "cell_type": "markdown",
   "metadata": {},
   "source": [
    "<div style=\"text-align: right\"> <font color='Gray'> Sociofísica - 2023 </div>\n",
    "<div style=\"text-align: right\"> <font color='Gray'> Tarea N° 3 </div>\n",
    "<div style=\"text-align: right\"> <font color='Gray'> Sebastián Pulgares </div>\n",
    "\n",
    "\n",
    "***"
   ]
  },
  {
   "cell_type": "markdown",
   "metadata": {},
   "source": [
    "### Modelo de Deffuant\n",
    "Se establecen N agentes, cada agente tiene asignado un valor entre 0 y 1, los agentes interactúan comparando este valor, si la resta entre el valor delagente a y el agente b es menor a un umbral definido, estos cambian su opinión acercandose al centro entre los 2.\n",
    "### Simulacion\n",
    "..."
   ]
  },
  {
   "cell_type": "code",
   "execution_count": 1,
   "metadata": {},
   "outputs": [],
   "source": [
    "import numpy as np\n",
    "import matplotlib.pyplot as plt\n",
    "import time\n",
    "import os\n",
    "from tqdm import trange"
   ]
  },
  {
   "cell_type": "code",
   "execution_count": 54,
   "metadata": {},
   "outputs": [],
   "source": [
    "def model(N, steps, dt, E, U, nombre):\n",
    "    start=time.time()\n",
    "    path = './Simulacion/'+ str(nombre)+'/'\n",
    "    if not os.path.exists(path):\n",
    "        os.makedirs(path, exist_ok=True)\n",
    "    with open(path+'/log.txt', 'w') as file: ##Archivo que guardará los parámetros usados\n",
    "        file.write( 'El numero de agentes es: '+str(N)+'\\n')\n",
    "        file.write('El paso temporal se definió como '+str(dt)+' emparejamientos'+'\\n')\n",
    "        file.write('Se consideraron '+str(steps)+' pasos temporales'+'\\n')\n",
    "        file.write('El umbral utilizado fue: '+str(E)+'\\n')\n",
    "        file.write('El parámetro de convergencia utilizado fue: '+str(U)+'\\n')\n",
    "    Agents = np.zeros([N, steps])\n",
    "    Agents[:, 0] = np.random.uniform(0, 1, size=N)\n",
    "    for i in trange(1,steps):\n",
    "        Agents[:,i]=Agents[:,i-1]\n",
    "        for ii in range(dt):\n",
    "            a,b=np.random.randint(N),np.random.randint(N)\n",
    "            if np.abs(Agents[:,i-1][a]-Agents[:,i-1][b])<E:\n",
    "                Agents[:,i][a]=Agents[:,i-1][a]+U*(Agents[:,i-1][b]-Agents[:,i-1][a])\n",
    "                Agents[:,i][b]=Agents[:,i-1][b]+U*(Agents[:,i-1][a]-Agents[:,i-1][b])\n",
    "        times = np.full(Agents.shape[0], i) \n",
    "        values = Agents[:, i] \n",
    "        plt.plot(times, values, 'bo', markersize=2, alpha=0.5)\n",
    "    plt.xlabel('Time')\n",
    "    plt.ylabel('Value')\n",
    "    plt.title('Value vs Time')\n",
    "    plt.grid(True)\n",
    "    plt.savefig(path+'Fig.png')\n",
    "    plt.show()\n",
    "    end=time.time()\n",
    "    with open(path+'/log.txt', 'a') as file:\n",
    "        file.write(\"Esta simulación se demoró : \"+str(end-start)+ \" segundos\")\n",
    "    print(\"El tiempo total de demora es \"+str(end-start)+ \" segundos\")"
   ]
  },
  {
   "cell_type": "code",
   "execution_count": 56,
   "metadata": {},
   "outputs": [
    {
     "name": "stderr",
     "output_type": "stream",
     "text": [
      "100%|██████████| 49999/49999 [01:23<00:00, 601.59it/s]\n"
     ]
    },
    {
     "data": {
      "image/png": "[encoded data removed]",
      "text/plain": [
       "<Figure size 640x480 with 1 Axes>"
      ]
     },
     "metadata": {},
     "output_type": "display_data"
    },
    {
     "name": "stdout",
     "output_type": "stream",
     "text": [
      "El tiempo total de demora es 377.1723484992981 segundos\n"
     ]
    }
   ],
   "source": [
    "model(1000,50000,1, 0.2,0.5, 'Fig6')"
   ]
  }
 ],
 "metadata": {
  "kernelspec": {
   "display_name": "Python 3",
   "language": "python",
   "name": "python3"
  },
  "language_info": {
   "codemirror_mode": {
    "name": "ipython",
    "version": 3
   },
   "file_extension": ".py",
   "mimetype": "text/x-python",
   "name": "python",
   "nbconvert_exporter": "python",
   "pygments_lexer": "ipython3",
   "version": "3.10.9"
  },
  "orig_nbformat": 4
 },
 "nbformat": 4,
 "nbformat_minor": 2
}
