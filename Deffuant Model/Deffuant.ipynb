{
 "cells": [
  {
   "attachments": {},
   "cell_type": "markdown",
   "metadata": {},
   "source": [
    "<div style=\"text-align: right\"> <font color='Gray'> Sociofísica - 2023 </div>\n",
    "<div style=\"text-align: right\"> <font color='Gray'> Tarea N° 3 </div>\n",
    "<div style=\"text-align: right\"> <font color='Gray'> Sebastián Pulgares </div>\n",
    "\n",
    "\n",
    "***"
   ]
  },
  {
   "cell_type": "markdown",
   "metadata": {},
   "source": [
    "Modelo de Deffuant\n",
    "---\n",
    "Se presenta un modelo continuo de opinión, donde los agentes ajustan su opinión en base a encuentros binarios con otros agentes.\n",
    "\n",
    "Considerando una población de $N$ agentes $i$ con una opinión continua $x_i$, en cada paso temporal dos agentes se encuentran y reajustan su opinión cuando la diferencia entre sus opiniones es menor que un umbral $\\epsilon$ de la siguiente forma:\n",
    "$$\n",
    "\\begin{array}{lr} x & = x +\\mu(x'-x)\\\\ x' & = x' +\\mu(x-x') \\end{array}\n",
    "$$\n",
    "\n",
    "Donde $\\mu$ es el parámetro de convergencia"
   ]
  },
  {
   "cell_type": "markdown",
   "metadata": {},
   "source": [
    "Simulación\n",
    "---\n",
    "Para las simulaciones pedidas, las opiniones de los agentes son generadas a partir de una distribución uniforme entre 0 y 1, los valores de los parámetros están en las instrucciones, es necesario destacar que para la reproducción de las figuras, los pasos temporales no fueron subdivididos en $dt$ encuentros debido a que la convergencia se daba muy rápido."
   ]
  },
  {
   "cell_type": "code",
   "execution_count": 1,
   "metadata": {},
   "outputs": [],
   "source": [
    "import numpy as np\n",
    "import matplotlib.pyplot as plt\n",
    "import time\n",
    "import os\n",
    "from tqdm import trange"
   ]
  },
  {
   "cell_type": "code",
   "execution_count": 2,
   "metadata": {},
   "outputs": [],
   "source": [
    "def model(N, steps, dt, E, U, nombre): #Se define la función\n",
    "    start=time.time()\n",
    "    path = './Simulacion/'+ str(nombre)+'/'\n",
    "    if not os.path.exists(path):\n",
    "        os.makedirs(path, exist_ok=True)\n",
    "    with open(path+'/log.txt', 'w') as file: ##Archivo que guardará los parámetros usados\n",
    "        file.write( 'El numero de agentes es: '+str(N)+'\\n')\n",
    "        file.write('El paso temporal se definió como '+str(dt)+' emparejamientos'+'\\n')\n",
    "        file.write('Se consideraron '+str(steps)+' pasos temporales'+'\\n')\n",
    "        file.write('El umbral utilizado fue: '+str(E)+'\\n')\n",
    "        file.write('El parámetro de convergencia utilizado fue: '+str(U)+'\\n')\n",
    "    Agents = np.zeros([N, steps]) #Generación de la matriz de los agentes, cada columna es un paso temporal\n",
    "    Agents[:, 0] = np.random.uniform(0, 1, size=N) #Genera la condicion inicial\n",
    "    for i in trange(1,steps):\n",
    "        Agents[:,i]=Agents[:,i-1] #Copia el paso anterior antes de modificar las opiniones\n",
    "        for ii in range(dt): #Subdivisión de los pasos temporales\n",
    "            a,b=np.random.randint(N),np.random.randint(N) #Toma 2 agentes aleatorios\n",
    "            if np.abs(Agents[:,i-1][a]-Agents[:,i-1][b])<E: #Compara con el umbral\n",
    "                Agents[:,i][a]=Agents[:,i-1][a]+U*(Agents[:,i-1][b]-Agents[:,i-1][a]) #Modifica opinion\n",
    "                Agents[:,i][b]=Agents[:,i-1][b]+U*(Agents[:,i-1][a]-Agents[:,i-1][b]) #Modifica opinion\n",
    "        times = np.full(N, i) \n",
    "        values = Agents[:, i]\n",
    "        plt.plot(times, values, 'bo', markersize=1.5, alpha=0.5)\n",
    "    plt.xlabel('Time')\n",
    "    plt.ylabel('Value')\n",
    "    plt.title('Value vs Time')\n",
    "    plt.grid(True)\n",
    "    plt.savefig(path+'Fig.png')\n",
    "    plt.show()\n",
    "    end=time.time()\n",
    "    with open(path+'/log.txt', 'a') as file:\n",
    "        file.write(\"Esta simulación se demoró : \"+str(end-start)+ \" segundos\")\n",
    "    print(\"El tiempo total de demora es \"+str(end-start)+ \" segundos\")"
   ]
  },
  {
   "cell_type": "code",
   "execution_count": 2,
   "metadata": {},
   "outputs": [],
   "source": [
    "def model(N, steps, dt, E, U, nombre): #Se define la función\n",
    "    start=time.time()\n",
    "    all_times = []\n",
    "    all_values = []\n",
    "    path = './Simulacion/'+ str(nombre)+'/'\n",
    "    if not os.path.exists(path):\n",
    "        os.makedirs(path, exist_ok=True)\n",
    "    with open(path+'/log.txt', 'w') as file: ##Archivo que guardará los parámetros usados\n",
    "        file.write( 'El numero de agentes es: '+str(N)+'\\n')\n",
    "        file.write('El paso temporal se definió como '+str(dt)+' emparejamientos'+'\\n')\n",
    "        file.write('Se consideraron '+str(steps)+' pasos temporales'+'\\n')\n",
    "        file.write('El umbral utilizado fue: '+str(E)+'\\n')\n",
    "        file.write('El parámetro de convergencia utilizado fue: '+str(U)+'\\n')\n",
    "    Agents = np.zeros([N, steps]) #Generación de la matriz de los agentes, cada columna es un paso temporal\n",
    "    Agents[:, 0] = np.random.uniform(0, 1, size=N) #Genera la condicion inicial\n",
    "    for i in trange(1,steps):\n",
    "        Agents[:,i]=Agents[:,i-1] #Copia el paso anterior antes de modificar las opiniones\n",
    "        for ii in range(dt): #Subdivisión de los pasos temporales\n",
    "            a,b=np.random.randint(N),np.random.randint(N) #Toma 2 agentes aleatorios\n",
    "            if np.abs(Agents[:,i-1][a]-Agents[:,i-1][b])<E: #Compara con el umbral\n",
    "                Agents[:,i][a]=Agents[:,i-1][a]+U*(Agents[:,i-1][b]-Agents[:,i-1][a]) #Modifica opinion\n",
    "                Agents[:,i][b]=Agents[:,i-1][b]+U*(Agents[:,i-1][a]-Agents[:,i-1][b]) #Modifica opinion\n",
    "        times = np.full(N, i) \n",
    "        values = Agents[:, i]\n",
    "        all_times.append(times)\n",
    "        all_values.append(values)\n",
    "        #plt.plot(times, values, 'bo', markersize=1.5, alpha=0.5)\n",
    "# Plot the data from the arrays\n",
    "    all_times = np.array(all_times)\n",
    "    all_values = np.array(all_values)\n",
    "    plt.plot(all_times.flatten(), all_values.flatten(), 'bo', markersize=1.5, alpha=0.5)\n",
    "\n",
    "# Customize plot settings (if needed)\n",
    "    plt.xlabel('Time')\n",
    "    plt.ylabel('Value')\n",
    "    plt.title('Value vs Time')\n",
    "    plt.grid(True)\n",
    "\n",
    "# Save the figure or show it\n",
    "    plt.savefig(path + 'Fig.png')\n",
    "    plt.show()\n",
    "    end=time.time()\n",
    "    with open(path+'/log.txt', 'a') as file:\n",
    "        file.write(\"Esta simulación se demoró : \"+str(end-start)+ \" segundos\")\n",
    "    print(\"El tiempo total de demora es \"+str(end-start)+ \" segundos\")"
   ]
  },
  {
   "cell_type": "code",
   "execution_count": 3,
   "metadata": {},
   "outputs": [
    {
     "name": "stderr",
     "output_type": "stream",
     "text": [
      "  0%|          | 0/49999 [00:00<?, ?it/s]"
     ]
    },
    {
     "name": "stderr",
     "output_type": "stream",
     "text": [
      "100%|██████████| 49999/49999 [00:06<00:00, 7596.62it/s]\n"
     ]
    },
    {
     "data": {
      "image/png": "[encoded data removed]",
      "text/plain": [
       "<Figure size 640x480 with 1 Axes>"
      ]
     },
     "metadata": {},
     "output_type": "display_data"
    },
    {
     "name": "stdout",
     "output_type": "stream",
     "text": [
      "El tiempo total de demora es 437.18774223327637 segundos\n"
     ]
    }
   ],
   "source": [
    "model(2000,50000,1, 0.5,0.5, 'testing')"
   ]
  }
 ],
 "metadata": {
  "kernelspec": {
   "display_name": "Python 3",
   "language": "python",
   "name": "python3"
  },
  "language_info": {
   "codemirror_mode": {
    "name": "ipython",
    "version": 3
   },
   "file_extension": ".py",
   "mimetype": "text/x-python",
   "name": "python",
   "nbconvert_exporter": "python",
   "pygments_lexer": "ipython3",
   "version": "3.10.9"
  },
  "orig_nbformat": 4
 },
 "nbformat": 4,
 "nbformat_minor": 2
}
