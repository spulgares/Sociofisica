{
 "cells": [
  {
   "attachments": {},
   "cell_type": "markdown",
   "metadata": {},
   "source": [
    "<div style=\"text-align: right\"> <font color='Gray'> Sociofísica - 2023 </div>\n",
    "<div style=\"text-align: right\"> <font color='Gray'> Tarea N° 3 </div>\n",
    "<div style=\"text-align: right\"> <font color='Gray'> Sebastián Pulgares </div>\n",
    "\n",
    "\n",
    "***"
   ]
  },
  {
   "cell_type": "markdown",
   "metadata": {},
   "source": [
    "Modelo de Deffuant\n",
    "---\n",
    "Se presenta un modelo continuo de opinión, donde los agentes ajustan su opinión en base a encuentros binarios con otros agentes.\n",
    "\n",
    "Considerando una población de $N$ agentes $i$ con una opinión continua $x_i$, en cada paso temporal dos agentes se encuentran y reajustan su opinión cuando la diferencia entre sus opiniones es menor que un umbral $\\epsilon$ de la siguiente forma:\n",
    "$$\n",
    "\\begin{array}{lr} x & = x +\\mu(x'-x)\\\\ x' & = x' +\\mu(x-x') \\end{array}\n",
    "$$\n",
    "\n",
    "Donde $\\mu$ es el parámetro de convergencia"
   ]
  },
  {
   "cell_type": "markdown",
   "metadata": {},
   "source": [
    "Simulación\n",
    "---\n",
    "Para las simulaciones pedidas, las opiniones de los agentes son generadas a partir de una distribución uniforme entre 0 y 1, los valores de los parámetros están en las instrucciones, es necesario destacar que para la reproducción de las figuras, los pasos temporales no fueron subdivididos en $dt$ encuentros debido a que la convergencia se daba muy rápido.\n",
    "\n",
    "Los parámetros necesarios para la reproducción de las figuras son:\n",
    "* Fig 1: $N=2000, steps = 50000, dt=1, \\epsilon=0.5, \\mu = 0.5$ \n",
    "* Fig 2: $N=1000, steps = 50000, dt=1, \\epsilon=0.2, \\mu = 0.5$"
   ]
  },
  {
   "cell_type": "code",
   "execution_count": 1,
   "metadata": {},
   "outputs": [],
   "source": [
    "import numpy as np\n",
    "import matplotlib.pyplot as plt\n",
    "import time\n",
    "import os\n",
    "from tqdm import trange\n",
    "plt.style.use('ggplot')"
   ]
  },
  {
   "cell_type": "code",
   "execution_count": 2,
   "metadata": {},
   "outputs": [],
   "source": [
    "def model(N, steps ,dt, E, U, nombre):\n",
    "    '''\n",
    "    INPUT\n",
    "    N : numero de agentes\n",
    "    steps : numero de pasos temporales\n",
    "    dt : numero de interacciones que corresponden a un paso temporal\n",
    "    E:  umbral de opinion\n",
    "    U: parametro de convergencia\n",
    "    nombre: Nombre de carpeta donde guardar los archivos\n",
    "    '''\n",
    "    start=time.time()\n",
    "    path = './Simulacion/'+ str(nombre)+'/'\n",
    "    if not os.path.exists(path):\n",
    "        os.makedirs(path, exist_ok=True)\n",
    "    with open(path+'/log.txt', 'w') as file: ##Archivo que guardará los parámetros usados\n",
    "        file.write( 'El numero de agentes es: '+str(N)+'\\n')\n",
    "        file.write('El paso temporal se definió como '+str(dt)+' emparejamientos'+'\\n')\n",
    "        file.write('Se consideraron '+str(steps)+' pasos temporales'+'\\n')\n",
    "        file.write('El umbral utilizado fue: '+str(E)+'\\n')\n",
    "        file.write('El parámetro de convergencia utilizado fue: '+str(U)+'\\n')\n",
    "    Agents = list(np.random.uniform(0, 1, size=N)) # Condicion inicial\n",
    "    timesteps = [0]*(steps) # Lista para parear los pasos temporales\n",
    "    timesteps[0] = Agents.copy() # Tiempo de la condicion inicial\n",
    "    aux = 0 # Variable auxiliar para contar las interacciones\n",
    "    for t in trange(1,steps):\n",
    "        i, j = np.random.randint(N), np.random.randint(N) # Elige dos agentes aleatoriamente\n",
    "        if (np.abs(Agents[i]-Agents[j]) < E): # Compara sus opiniones\n",
    "            Agents[i] = Agents[i] + U*(Agents[j] - Agents[i])\n",
    "            Agents[j] = Agents[j] + U*(Agents[i] - Agents[j])\n",
    "            aux += 1\n",
    "        if aux >= dt:\n",
    "            aux = 0\n",
    "            timesteps[t] = Agents.copy()\n",
    "        else:\n",
    "            timesteps[t] = Agents.copy()\n",
    "    end=time.time()\n",
    "    with open(path+'/log.txt', 'a') as file:\n",
    "        file.write(\"El calculo de esta simulación se demoró : \"+str(end-start)+ \" segundos\")\n",
    "    print(\"El tiempo de calculo es \"+str(end-start)+ \" segundos\")\n",
    "    return timesteps"
   ]
  },
  {
   "cell_type": "code",
   "execution_count": 5,
   "metadata": {},
   "outputs": [],
   "source": [
    "def plotter(N, steps ,dt, E, U, nombre):\n",
    "    path = './Simulacion/'+ str(nombre)+'/'\n",
    "    res=model(N, steps ,dt, E, U, nombre)\n",
    "    ts=[[i]*N for i in range(steps)]\n",
    "    plt.scatter(ts,res, s = 1.6)\n",
    "    plt.xlabel('tiempo')\n",
    "    plt.ylabel('Opinión')\n",
    "    plt.savefig(path+'Umbral='+str(E)+'.png')\n",
    "    plt.show"
   ]
  },
  {
   "cell_type": "code",
   "execution_count": 6,
   "metadata": {},
   "outputs": [
    {
     "name": "stderr",
     "output_type": "stream",
     "text": [
      "  0%|          | 0/49999 [00:00<?, ?it/s]"
     ]
    },
    {
     "name": "stderr",
     "output_type": "stream",
     "text": [
      "100%|██████████| 49999/49999 [00:03<00:00, 16374.99it/s]\n"
     ]
    },
    {
     "name": "stdout",
     "output_type": "stream",
     "text": [
      "El tiempo de calculo es 3.0756375789642334 segundos\n"
     ]
    },
    {
     "data": {
      "image/png": "[encoded data removed]",
      "text/plain": [
       "<Figure size 640x480 with 1 Axes>"
      ]
     },
     "metadata": {},
     "output_type": "display_data"
    }
   ],
   "source": [
    "plotter(1000,50000,1000,0.2,0.5, 'asd2')"
   ]
  }
 ],
 "metadata": {
  "kernelspec": {
   "display_name": "Python 3",
   "language": "python",
   "name": "python3"
  },
  "language_info": {
   "codemirror_mode": {
    "name": "ipython",
    "version": 3
   },
   "file_extension": ".py",
   "mimetype": "text/x-python",
   "name": "python",
   "nbconvert_exporter": "python",
   "pygments_lexer": "ipython3",
   "version": "3.11.3"
  },
  "orig_nbformat": 4
 },
 "nbformat": 4,
 "nbformat_minor": 2
}
