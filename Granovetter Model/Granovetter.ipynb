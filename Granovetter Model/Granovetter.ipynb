{
 "cells": [
  {
   "attachments": {},
   "cell_type": "markdown",
   "metadata": {},
   "source": [
    "<div style=\"text-align: right\"> <font color='Gray'> Sociofísica - 2023 </div>\n",
    "<div style=\"text-align: right\"> <font color='Gray'> Tarea N° 4 </div>\n",
    "<div style=\"text-align: right\"> <font color='Gray'> Sebastián Pulgares </div>\n",
    "\n",
    "\n",
    "***"
   ]
  },
  {
   "attachments": {},
   "cell_type": "markdown",
   "metadata": {},
   "source": [
    "Modelo del Umbral\n",
    "---\n",
    "Este modelo representa la adhesión de un agente a un comportamiento colectivo donde la desición de reproducirlo o no depende de qué porcentaje del total de agentes está participando, en particular consideramos el ejemplo de una protesta.\n",
    "\n",
    "Cada agente tiene un Umbral definido de cuantos otros agentes es necesario que protesten para unirse a esta, se estudian 2 formas de distribuir el umbral dentro de una población de $N$ agentes\n",
    "\n",
    "Los gráficos realizados representan la distribución acumulada de personas protestando, definida según la ecuación de recurrencia $F[r(t)]=r(t+1)$, donde $r(t)$ representa la fracción de la población que se encuentra protestando y $F[r(t)]$  y la intersección de ésta con la recta y=x representa el punto de equilibrio del sistema.\n",
    "...."
   ]
  },
  {
   "cell_type": "markdown",
   "metadata": {},
   "source": [
    "Simulacion\n",
    "---\n",
    "Se define una función para cada distribución y una función que llama a la que se busca graficar\n",
    "\n",
    "Los parámetros necesarios para reproducir las figuras de la tarea son:\n",
    "* Fig 1: Distribución = uniforme, nombre de carpeta\n",
    "* Fig 2: Distribución = normal, nombre de carpeta, media = 0.25 y desviación estandar = 0\n",
    "* Fig 3: Distribución = normal, nombre de carpeta, media = 0.25 y desviación estandar = 0.2\n",
    "* Fig 4: Distribución = normal, nombre de carpeta, media = 0.4 y desviación estandar = 0.2"
   ]
  },
  {
   "cell_type": "code",
   "execution_count": 1,
   "metadata": {},
   "outputs": [],
   "source": [
    "import numpy as np\n",
    "import matplotlib.pyplot as plt\n",
    "import os"
   ]
  },
  {
   "cell_type": "code",
   "execution_count": 3,
   "metadata": {},
   "outputs": [],
   "source": [
    "def uniforme(tamaño, Umbral): # Se define la función con la distribución uniforme\n",
    "    Agents=np.random.randint(0,100,tamaño) # Asigna un umbral a cada agente\n",
    "    adhesion=0 \n",
    "    retraccion=0\n",
    "    for i in range(len(Agents)): #Verifica si hay suficiente gente protestando\n",
    "        if Agents[i]>Umbral:\n",
    "            retraccion+=1\n",
    "        if Agents[i]<=Umbral:\n",
    "            adhesion+=1\n",
    "    if np.ceil((adhesion/len(Agents))*100)<1:\n",
    "        Umbral=np.ceil((adhesion/len(Agents))*100)\n",
    "    else:\n",
    "        Umbral=adhesion\n",
    "        #print(Umbral, adhesion,retraccion)\n",
    "    return adhesion"
   ]
  },
  {
   "cell_type": "code",
   "execution_count": 4,
   "metadata": {},
   "outputs": [],
   "source": [
    "def normal(tamaño, media, std,  Umbral): # Se define la función con la distribución normal\n",
    "    Agents=np.ceil(np.abs(np.random.normal(media,std,tamaño))*100) # Asigna un umbral a cada agente\n",
    "    adhesion=0\n",
    "    retraccion=0\n",
    "    for i in range(len(Agents)): #Verifica si hay suficiente gente protestando\n",
    "        if Agents[i]>Umbral:\n",
    "            retraccion+=1\n",
    "        if Agents[i]<=Umbral:\n",
    "            adhesion+=1\n",
    "    if np.ceil((adhesion/len(Agents))*100)<1:\n",
    "        Umbral=np.ceil((adhesion/len(Agents))*100)\n",
    "    else:\n",
    "        Umbral=adhesion\n",
    "        #print(Umbral, adhesion,retraccion)\n",
    "    return adhesion"
   ]
  },
  {
   "cell_type": "code",
   "execution_count": 5,
   "metadata": {},
   "outputs": [],
   "source": [
    "def simul(funcion,carpeta,media=0,std=0): #Se define una única función que correrá los modelos\n",
    "    path='./Simulacion/'+str(carpeta)\n",
    "    if not os.path.exists(path):\n",
    "        os.makedirs(path, exist_ok=True)\n",
    "    wa=np.linspace(0,100,100) #El gráfico es para valores del umbral entre 0 y 100\n",
    "    lista=[]\n",
    "    for elem in range(len(wa)):\n",
    "        if funcion==uniforme:\n",
    "            with open(path+'/log.txt', 'w') as file: ##Archivo que guardará los parámetros usados\n",
    "                file.write( 'Se utilizó la distribución uniforme')\n",
    "            asd=uniforme(1000,wa[elem])\n",
    "            lista.append(asd/10)\n",
    "        if funcion==normal:\n",
    "            asd=normal(1000,media, std, wa[elem])\n",
    "            lista.append(asd/10)\n",
    "            with open(path+'/log.txt', 'w') as file:\n",
    "                file.write( 'Se utilizó la distribución normal'+'\\n')\n",
    "                file.write(\"La media utilizada fue: \"+str(media)+'\\n')\n",
    "                file.write(\"La desviación utilizada fue: \"+str(std)+'\\n')\n",
    "    plt.plot(wa,lista)\n",
    "    plt.plot(wa,wa, 'r--')\n",
    "    plt.grid(True)\n",
    "    plt.savefig(path+'/simul.png')"
   ]
  },
  {
   "cell_type": "code",
   "execution_count": 10,
   "metadata": {},
   "outputs": [
    {
     "data": {
      "image/png": "[encoded data removed]",
      "text/plain": [
       "<Figure size 640x480 with 1 Axes>"
      ]
     },
     "metadata": {},
     "output_type": "display_data"
    }
   ],
   "source": [
    "simul(normal, 'testing2', 0.25,0)"
   ]
  }
 ],
 "metadata": {
  "kernelspec": {
   "display_name": "Python 3",
   "language": "python",
   "name": "python3"
  },
  "language_info": {
   "codemirror_mode": {
    "name": "ipython",
    "version": 3
   },
   "file_extension": ".py",
   "mimetype": "text/x-python",
   "name": "python",
   "nbconvert_exporter": "python",
   "pygments_lexer": "ipython3",
   "version": "3.11.3"
  },
  "orig_nbformat": 4
 },
 "nbformat": 4,
 "nbformat_minor": 2
}
