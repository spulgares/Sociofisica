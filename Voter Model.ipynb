{
 "cells": [
  {
   "cell_type": "code",
   "execution_count": 2,
   "metadata": {},
   "outputs": [],
   "source": [
    "import numpy as np\n",
    "import matplotlib.pyplot as plt\n",
    "from  matplotlib.animation import FuncAnimation\n",
    "import os\n",
    "import tqdm"
   ]
  },
  {
   "cell_type": "code",
   "execution_count": 6,
   "metadata": {},
   "outputs": [],
   "source": [
    "def filename(iter):\n",
    "    dirname = 'data'\n",
    "    fname =  str(iter) + '.npy'   \n",
    "    os.makedirs(dirname, exist_ok=True)   \n",
    "    os.makedirs('./Imagenes', exist_ok=True)\n",
    "    return os.path.join(dirname, fname)\n",
    "def filename2(iter):\n",
    "    dirname = 'data2'\n",
    "    fname =  str(iter) + '.npy'   \n",
    "    os.makedirs(dirname, exist_ok=True)   \n",
    "    os.makedirs('./Imagenes2', exist_ok=True)\n",
    "    return os.path.join(dirname, fname)"
   ]
  },
  {
   "cell_type": "code",
   "execution_count": 4,
   "metadata": {},
   "outputs": [
    {
     "data": {
      "text/plain": [
       "array([[1, 0, 0, 0, 0, 1, 0, 1, 0, 0],\n",
       "       [0, 0, 1, 0, 1, 1, 1, 1, 1, 1],\n",
       "       [0, 0, 0, 1, 1, 1, 0, 0, 1, 0],\n",
       "       [1, 0, 0, 0, 0, 1, 1, 1, 1, 1],\n",
       "       [1, 0, 1, 1, 0, 1, 1, 1, 0, 1],\n",
       "       [1, 1, 0, 1, 1, 1, 0, 1, 1, 1],\n",
       "       [1, 0, 1, 1, 0, 0, 1, 1, 1, 0],\n",
       "       [1, 1, 1, 1, 0, 1, 0, 1, 1, 0],\n",
       "       [0, 0, 1, 0, 0, 1, 0, 1, 0, 0],\n",
       "       [0, 0, 0, 0, 0, 1, 1, 1, 0, 0]])"
      ]
     },
     "execution_count": 4,
     "metadata": {},
     "output_type": "execute_result"
    }
   ],
   "source": [
    "iters = 50\n",
    "N=10\n",
    "Seed=1\n",
    "Ci = np.random.choice([0, 1], [N,N])\n",
    "Ci"
   ]
  },
  {
   "cell_type": "code",
   "execution_count": 7,
   "metadata": {},
   "outputs": [
    {
     "data": {
      "image/png": "[encoded data removed]",
      "text/plain": [
       "<Figure size 640x480 with 1 Axes>"
      ]
     },
     "metadata": {},
     "output_type": "display_data"
    }
   ],
   "source": [
    "##First try, iterates over every cell\n",
    "A=np.copy(Ci)\n",
    "np.save(filename(0),A)\n",
    "for iter in range(0,iters):\n",
    "    if iter ==0:\n",
    "        plt.imshow(A, cmap='Greys')\n",
    "        plt.savefig('./Imagenes/0.png')\n",
    "    else:\n",
    "        for a in range(0,N):\n",
    "            for b in range(0,N):\n",
    "                aux=[]\n",
    "                try:    \n",
    "                    aux.append(A[a][b-1])\n",
    "                except:\n",
    "                    pass\n",
    "                try:\n",
    "                    aux.append(A[a][b+1])\n",
    "                except:\n",
    "                    pass\n",
    "                try:\n",
    "                    aux.append(A[a+1][b])\n",
    "                except:\n",
    "                    pass\n",
    "                try:\n",
    "                    aux.append(A[a-1][b])\n",
    "                except:\n",
    "                    pass\n",
    "                vecino=np.random.choice(aux)\n",
    "                if A[a][b]==vecino:\n",
    "                    pass\n",
    "                else:\n",
    "                    A[a][b]=vecino\n",
    "        np.save(filename(iter),A)\n",
    "        plt.imshow(A, cmap='Greys', vmin=0, vmax=1)\n",
    "        plt.savefig('./Imagenes/'+str(iter) + '.png')"
   ]
  },
  {
   "cell_type": "code",
   "execution_count": 8,
   "metadata": {},
   "outputs": [
    {
     "data": {
      "image/png": "[encoded data removed]",
      "text/plain": [
       "<Figure size 640x480 with 1 Axes>"
      ]
     },
     "metadata": {},
     "output_type": "display_data"
    }
   ],
   "source": [
    "##Picks only one random cell and updates its value\n",
    "B= np.copy(Ci)\n",
    "for iter in range(0,iters):\n",
    "    if iter ==0:\n",
    "        plt.imshow(B, cmap='Greys')\n",
    "        plt.savefig('./Imagenes2/0.png')\n",
    "    else:\n",
    "        a = np.random.choice(N)\n",
    "        b = np.random.choice(N)\n",
    "        aux=[]\n",
    "        try:\n",
    "            aux.append(B[a][b-1])\n",
    "        except:\n",
    "            pass\n",
    "        try:\n",
    "            aux.append(B[a][b+1])\n",
    "        except:\n",
    "            pass\n",
    "        try:\n",
    "            aux.append(B[a+1][b])\n",
    "        except:\n",
    "            pass\n",
    "        try:\n",
    "            aux.append(B[a-1][b])\n",
    "        except:\n",
    "            pass\n",
    "        #print(aux)\n",
    "        vecino=np.random.choice(aux)\n",
    "        #print(vecino)\n",
    "        if B[a][b]==vecino:\n",
    "            pass\n",
    "        else:\n",
    "            B[a][b]=vecino\n",
    "    np.save(filename2(iter),B)\n",
    "    plt.imshow(B, cmap='Greys', vmin=0, vmax=1)\n",
    "    plt.savefig('./Imagenes2/'+str(iter) + '.png')"
   ]
  }
 ],
 "metadata": {
  "kernelspec": {
   "display_name": "Python 3",
   "language": "python",
   "name": "python3"
  },
  "language_info": {
   "codemirror_mode": {
    "name": "ipython",
    "version": 3
   },
   "file_extension": ".py",
   "mimetype": "text/x-python",
   "name": "python",
   "nbconvert_exporter": "python",
   "pygments_lexer": "ipython3",
   "version": "3.10.9"
  },
  "orig_nbformat": 4
 },
 "nbformat": 4,
 "nbformat_minor": 2
}
