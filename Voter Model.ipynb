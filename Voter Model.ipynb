{
 "cells": [
  {
   "cell_type": "code",
   "execution_count": 3,
   "metadata": {},
   "outputs": [],
   "source": [
    "import numpy as np\n",
    "import matplotlib.pyplot as plt\n",
    "from  matplotlib.animation import FuncAnimation\n",
    "import os\n",
    "import tqdm"
   ]
  },
  {
   "cell_type": "code",
   "execution_count": 34,
   "metadata": {},
   "outputs": [],
   "source": [
    "def filename(iter):\n",
    "    dirname = 'Simulacion'\n",
    "    fname =  str(iter) + '.npy'   \n",
    "    os.makedirs('./data', exist_ok=True)   \n",
    "    os.makedirs('./Imagenes', exist_ok=True)\n",
    "    return os.path.join(dirname, fname)"
   ]
  },
  {
   "cell_type": "code",
   "execution_count": 65,
   "metadata": {},
   "outputs": [
    {
     "data": {
      "text/plain": [
       "array([[1, 1, 0, 0, 1, 0, 1, 0, 1, 1],\n",
       "       [1, 0, 1, 0, 0, 0, 0, 0, 1, 1],\n",
       "       [1, 1, 1, 1, 0, 1, 1, 1, 1, 0],\n",
       "       [1, 0, 1, 0, 1, 0, 1, 1, 0, 0],\n",
       "       [0, 1, 0, 0, 0, 0, 1, 0, 1, 0],\n",
       "       [0, 1, 0, 0, 0, 0, 1, 0, 0, 0],\n",
       "       [0, 1, 1, 1, 0, 0, 0, 1, 0, 0],\n",
       "       [1, 0, 1, 0, 1, 1, 0, 0, 0, 0],\n",
       "       [0, 1, 1, 0, 0, 0, 0, 0, 1, 1],\n",
       "       [0, 0, 1, 1, 0, 1, 0, 1, 1, 1]])"
      ]
     },
     "execution_count": 65,
     "metadata": {},
     "output_type": "execute_result"
    }
   ],
   "source": [
    "iters = 10\n",
    "N=10\n",
    "#Seed=1\n",
    "Ci = np.random.choice([0, 1], [N,N])\n",
    "Ci"
   ]
  },
  {
   "cell_type": "code",
   "execution_count": 68,
   "metadata": {},
   "outputs": [],
   "source": [
    "##Picks only one random cell and updates its value\n",
    "path = './Simulacion/'\n",
    "if not os.path.exists(path):\n",
    "    os.makedirs('./Simulacion/data', exist_ok=True)   \n",
    "    os.makedirs('./Simulacion/Imagenes', exist_ok=True)\n",
    "B= np.copy(Ci)\n",
    "for iter in range(0,iters):\n",
    "    if iter ==0:\n",
    "        plt.imshow(B, cmap='Greys')\n",
    "        plt.savefig(path+'/Imagenes/'+str(iter).zfill(3) + '.png')\n",
    "    else:\n",
    "        a = np.random.choice(N)\n",
    "        b = np.random.choice(N)\n",
    "        aux=[]\n",
    "        try:\n",
    "            aux.append(B[a][b-1])\n",
    "        except:\n",
    "            pass\n",
    "        try:\n",
    "            aux.append(B[a][b+1])\n",
    "        except:\n",
    "            pass\n",
    "        try:\n",
    "            aux.append(B[a+1][b])\n",
    "        except:\n",
    "            pass\n",
    "        try:\n",
    "            aux.append(B[a-1][b])\n",
    "        except:\n",
    "            pass\n",
    "        #print(aux)\n",
    "        vecino=np.random.choice(aux)\n",
    "        #print(vecino)\n",
    "        if B[a][b]==vecino:\n",
    "            pass\n",
    "        else:\n",
    "            B[a][b]=vecino\n",
    "    np.save(path + '/data/' + (str(iter).zfill(3)),B)\n",
    "    plt.imshow(B, cmap='Greys', vmin=0, vmax=1)\n",
    "    plt.savefig(path+'/Imagenes/'+str(iter).zfill(3) + '.png')\n",
    "plt.close('all')"
   ]
  }
 ],
 "metadata": {
  "kernelspec": {
   "display_name": "Python 3",
   "language": "python",
   "name": "python3"
  },
  "language_info": {
   "codemirror_mode": {
    "name": "ipython",
    "version": 3
   },
   "file_extension": ".py",
   "mimetype": "text/x-python",
   "name": "python",
   "nbconvert_exporter": "python",
   "pygments_lexer": "ipython3",
   "version": "3.10.9"
  },
  "orig_nbformat": 4
 },
 "nbformat": 4,
 "nbformat_minor": 2
}
