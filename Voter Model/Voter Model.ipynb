{
 "cells": [
  {
   "attachments": {},
   "cell_type": "markdown",
   "metadata": {},
   "source": [
    "<div style=\"text-align: right\"> <font color='Gray'> Sociofísica - 2023 </div>\n",
    "<div style=\"text-align: right\"> <font color='Gray'> Tarea N° 1 </div>\n",
    "<div style=\"text-align: right\"> <font color='Gray'> Sebastián Pulgares </div>\n",
    "\n",
    "\n",
    "***"
   ]
  },
  {
   "attachments": {},
   "cell_type": "markdown",
   "metadata": {},
   "source": [
    "Tarea 1: Voter Model\n",
    "-------------------------\n",
    "\"Lorem ipsum dolor sit amet, consectetur adipiscing elit, sed do eiusmod tempor incididunt ut labore et dolore magna aliqua. Ut enim ad minim veniam, quis nostrud exercitation ullamco laboris nisi ut aliquip ex ea commodo consequat. Duis aute irure dolor in reprehenderit in voluptate velit esse cillum dolore eu fugiat nulla pariatur. Excepteur sint occaecat cupidatat non proident, sunt in culpa qui officia deserunt mollit anim id est laborum.\""
   ]
  },
  {
   "cell_type": "code",
   "execution_count": 1,
   "metadata": {},
   "outputs": [],
   "source": [
    "import numpy as np\n",
    "import matplotlib.pyplot as plt\n",
    "import os\n",
    "import time"
   ]
  },
  {
   "cell_type": "code",
   "execution_count": 39,
   "metadata": {},
   "outputs": [],
   "source": [
    "###Función###\n",
    "def voter_model(N, iters, seed, num):\n",
    "    start=time.time()\n",
    "    for x in range(1,num+1):    ##Con esto definimos el número de simulaciones a realizar\n",
    "        semilla= seed+(x-1)     ##\n",
    "        np.random.seed(semilla) ##Toma una semilla individual para cada simulacion, sumando 1 a la anterior\n",
    "        Ci = np.random.choice([0, 1], [N,N])    ##Crea la condicion inicial\n",
    "        M = np.zeros(iters)     ##Matriz para calcular consenso vs tiempo\n",
    "        path = './Simulacion/'+ str(x).zfill(3) ##Ruta donde se guardarán los archivos\n",
    "        if not os.path.exists(path):\n",
    "            os.makedirs(path+'/data', exist_ok=True)\n",
    "            os.makedirs(path+'/Imagenes', exist_ok=True)\n",
    "        with open(path+'/log.txt', 'w') as file: ##Archivo que guardará los parámetros usados\n",
    "            file.write( 'El tamaño del sistema es: '+str(N)+'x'+str(N))\n",
    "            file.write('\\n')\n",
    "            file.write('Se realizaron '+str(iters)+' iteraciones')\n",
    "            file.write('\\n')\n",
    "            file.write( 'La semilla utilizada fue: '+str(semilla))\n",
    "            file.write('\\n')\n",
    "        B= np.copy(Ci)  ##Se copia la condicion inicial, para no trabajar sobre ella\n",
    "        for iter in range(iters):\n",
    "            iterstart=time.time() \n",
    "            M[iter] = np.sum(B)    ##Calcula la suma total de spin 1 en la matriz\n",
    "            if np.sum(B)/N**2 ==1 or np.sum(B)==0:\n",
    "                break\n",
    "            if iter ==0:        ##No aplica el avance temporal a la condicion inicial\n",
    "                pass\n",
    "            else:\n",
    "                aux2=1      ##Variable auxiliar para definir el paso temporal\n",
    "                while aux2%N !=0:   \n",
    "                    a, b = np.random.choice(N), np.random.choice(N) ##Toma 2 indices aleatorios\n",
    "                    vecino = np.random.choice([B[(a-1)%N, b], B[(a+1)%N, b], B[a, (b-1)%N], B[a, (b+1)%N]]) #elige un vecino aleatorio\n",
    "                    if B[a][b]==vecino: ##Si son iguales, no pasa nada\n",
    "                        pass\n",
    "                    else:\n",
    "                        B[a][b]=vecino  ##Si son distintos, se cambia\n",
    "                    aux2+=1\n",
    "            np.save(path + '/data/' + (str(iter).zfill(3)),B.astype(np.int8)) ##Guarda las matrices en npy\n",
    "            plt.imshow(B, cmap='Greys', vmin=0, vmax=1)                         ##Plotea cada paso temporal\n",
    "            plt.savefig(path+'/Imagenes/'+str(iter).zfill(3) + '.png')\n",
    "        iterend=time.time()\n",
    "        with open(path+'/log.txt', 'a') as file:\n",
    "            file.write(\"Esta simulación se demoró : \"+str(iterend-iterstart)+ \" segundos\")\n",
    "        plt.close('all')\n",
    "        M = M[:iter+1]\n",
    "        fig, axes = plt.subplots(nrows = 1, ncols = 3, figsize = (15, 5))   ##Crea la figura de resumen\n",
    "        axes[0].imshow(Ci, cmap='Greys', vmin=0, vmax=1)\n",
    "        axes[0].set_title('Estado Inicial')\n",
    "        axes[1].imshow(B, cmap='Greys', vmin=0, vmax=1)\n",
    "        axes[1].set_title('Estado Final')  \n",
    "        axes[2].plot(M/N**2)\n",
    "        axes[2].set_ylim(0,1.1)\n",
    "        axes[2].set_xlabel(\"Step\")\n",
    "        axes[2].set_ylabel(\"Consenso\")\n",
    "        axes[2].set_title(\"Consenso vs tiempo\")\n",
    "        axes[2].grid(True)\n",
    "        plt.savefig(path+'/Resumen.png')\n",
    "        plt.close('all')\n",
    "    end=time.time()\n",
    "    print(\"El tiempo de demora es \"+str(end-start)+ \" segundos\")"
   ]
  },
  {
   "cell_type": "code",
   "execution_count": 41,
   "metadata": {},
   "outputs": [
    {
     "name": "stdout",
     "output_type": "stream",
     "text": [
      "[15. 15. 17. 18. 15. 17. 18. 17. 17. 17. 16. 14. 14. 12. 14. 15. 17. 18.\n",
      " 19. 18.]\n",
      "[12. 12. 11. 11. 12. 11. 10. 10. 12. 13. 12. 13. 12. 11. 11. 11. 11. 11.\n",
      " 10. 11.]\n",
      "[15. 15. 16. 17. 18. 18. 18. 18. 18. 18. 18. 17. 18. 17. 18. 18. 18. 18.\n",
      " 19. 19.]\n",
      "[10. 10. 11. 12. 12. 11. 12. 13. 12. 13. 14. 13. 13. 14. 15. 14. 13. 12.\n",
      " 10. 10.]\n",
      "[13. 13. 15. 16. 17. 18. 19. 19. 19. 20. 20. 21. 21. 21. 20. 20. 19. 18.\n",
      " 18. 18.]\n",
      "[13. 13. 13. 13. 13. 13. 11. 11. 13. 12. 12. 11. 13. 13. 11. 15. 16. 16.\n",
      " 14. 15.]\n",
      "El tiempo de demora es 61.6160352230072 segundos\n"
     ]
    }
   ],
   "source": [
    "voter_model(5, 20, 5799, 6)"
   ]
  }
 ],
 "metadata": {
  "kernelspec": {
   "display_name": "Python 3",
   "language": "python",
   "name": "python3"
  },
  "language_info": {
   "codemirror_mode": {
    "name": "ipython",
    "version": 3
   },
   "file_extension": ".py",
   "mimetype": "text/x-python",
   "name": "python",
   "nbconvert_exporter": "python",
   "pygments_lexer": "ipython3",
   "version": "3.10.9"
  },
  "orig_nbformat": 4
 },
 "nbformat": 4,
 "nbformat_minor": 2
}
